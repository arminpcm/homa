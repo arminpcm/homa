{
 "cells": [
  {
   "cell_type": "markdown",
   "metadata": {},
   "source": [
    "# Exploring the Simulated Dataset\n",
    "\n",
    "This notebook demonstrates the generation and visualization of the simulated shapes dataset.\n"
   ]
  },
  {
   "cell_type": "code",
   "execution_count": 11,
   "metadata": {},
   "outputs": [],
   "source": [
    "import matplotlib.pyplot as plt\n",
    "import numpy as np\n",
    "import torch\n",
    "\n",
    "import os\n",
    "os.chdir(\"../../..\")\n",
    "from src.diffusion.datasets.simulated_dataset import SimulatedDataset\n",
    "# For better visualization\n",
    "%matplotlib inline\n",
    "plt.rcParams['figure.figsize'] = [15, 15]\n"
   ]
  },
  {
   "cell_type": "code",
   "execution_count": null,
   "metadata": {},
   "outputs": [],
   "source": [
    "\"# Create dataset with larger image size\\n\",\n",
    "dataset = SimulatedDataset(\n",
    "    num_samples=10, image_size=1024, max_shapes=3, min_distance=0.5, max_distance=10.0\n",
    ")\n",
    "print(f\"Dataset size: {len(dataset)}\")\n"
   ]
  },
  {
   "cell_type": "code",
   "execution_count": 13,
   "metadata": {},
   "outputs": [],
   "source": [
    "def visualize_sample(image_tensor, caption):\n",
    "    \"\"\"Helper function to visualize a single sample\"\"\",\n",
    "    # Convert from (C,H,W) to (H,W,C)\n",
    "    image = image_tensor.numpy().transpose(1, 2, 0)\n",
    "    plt.figure(figsize=(15, 15))\n",
    "    plt.imshow(image)\n",
    "    plt.title(caption, wrap=True, fontsize=12)\n",
    "    plt.axis(\"off\")\n",
    "    plt.show()\n"
   ]
  },
  {
   "cell_type": "code",
   "execution_count": null,
   "metadata": {},
   "outputs": [],
   "source": [
    "# Generate and visualize 10 samples\n",
    "for i in range(10):\n",
    "    image, caption = dataset[i]\n",
    "    print(f\"\\nSample {i+1} caption: {caption}\")\n",
    "    visualize_sample(image, f\"Sample {i+1}\")\n"
   ]
  },
  {
   "cell_type": "code",
   "execution_count": null,
   "metadata": {},
   "outputs": [],
   "source": [
    "# Create a grid visualization of all samples\\n\",\n",
    "fig, axes = plt.subplots(2, 5, figsize=(25, 10))\n",
    "axes = axes.ravel()\n",
    "\n",
    "captions = []\n",
    "for i in range(10):\n",
    "    image, caption = dataset[i]\n",
    "    image = image.numpy().transpose(1, 2, 0)\n",
    "\n",
    "    axes[i].imshow(image)\n",
    "    axes[i].set_title(f\"Sample {i+1}\", fontsize=10)\n",
    "    axes[i].axis(\"off\")\n",
    "    captions.append(caption)\n",
    "\n",
    "plt.tight_layout()\n",
    "plt.show()\n",
    "\n",
    "# Print all captions\n",
    "print(\"\\nCaptions for all samples:\")\n",
    "for i, c in enumerate(captions):\n",
    "    print(f\"\\nSample {i+1}: {c}\")\n"
   ]
  }
 ],
 "metadata": {
  "kernelspec": {
   "display_name": ".venv",
   "language": "python",
   "name": "python3"
  },
  "language_info": {
   "codemirror_mode": {
    "name": "ipython",
    "version": 3
   },
   "file_extension": ".py",
   "mimetype": "text/x-python",
   "name": "python",
   "nbconvert_exporter": "python",
   "pygments_lexer": "ipython3",
   "version": "3.10.0"
  }
 },
 "nbformat": 4,
 "nbformat_minor": 2
}
